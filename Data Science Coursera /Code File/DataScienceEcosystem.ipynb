{
 "cells": [
  {
   "cell_type": "markdown",
   "id": "72003c9d",
   "metadata": {},
   "source": [
    "# Data Science Tools and Ecosystem"
   ]
  },
  {
   "cell_type": "markdown",
   "id": "18fc8f81",
   "metadata": {},
   "source": [
    "#### In this notebook, Data Science Tools and Ecosystem are summarized."
   ]
  },
  {
   "cell_type": "markdown",
   "id": "72ae2345",
   "metadata": {},
   "source": [
    "#### Some of the popular languages that Data Scientists use are:\n",
    "#### 1) Python\n",
    "#### 2) R\n",
    "#### 3) SQL"
   ]
  },
  {
   "cell_type": "markdown",
   "id": "2b766a49",
   "metadata": {},
   "source": [
    "#### Some of the commonly used libraries used by Data Scientists include:\n",
    "#### 1) Pandas\n",
    "#### 2) Matplotlib\n",
    "#### 3) Seaborn"
   ]
  },
  {
   "cell_type": "markdown",
   "id": "392efc29",
   "metadata": {},
   "source": [
    "| Data Science Tools |\n",
    "|--------------------|\n",
    "| Jupyter Notebook             |\n",
    "| RStudio             |\n",
    "| VS Code             |"
   ]
  },
  {
   "cell_type": "markdown",
   "id": "e0e8c7b6",
   "metadata": {},
   "source": [
    "### Below are a few examples of evaluating arithmetic expressions in Python"
   ]
  },
  {
   "cell_type": "code",
   "execution_count": 1,
   "id": "42401ae5",
   "metadata": {},
   "outputs": [
    {
     "data": {
      "text/plain": [
       "17"
      ]
     },
     "execution_count": 1,
     "metadata": {},
     "output_type": "execute_result"
    }
   ],
   "source": [
    "#  This a simple arithmetic expression to mutiply then add integers\n",
    "(3*4)+5"
   ]
  },
  {
   "cell_type": "code",
   "execution_count": 2,
   "id": "f3795b17",
   "metadata": {},
   "outputs": [
    {
     "data": {
      "text/plain": [
       "3.3333333333333335"
      ]
     },
     "execution_count": 2,
     "metadata": {},
     "output_type": "execute_result"
    }
   ],
   "source": [
    "# This will convert 200 minutes to hours by diving by 60\n",
    "m = 200\n",
    "h = 200/60\n",
    "h"
   ]
  },
  {
   "cell_type": "markdown",
   "id": "4767ba0e",
   "metadata": {},
   "source": [
    "## Objectives:\n",
    "\n",
    "- List popular languages for Data Science\n",
    "- Discuss open source tools for Data Science\n",
    "- Explore Jupyter Notebook as a development environment\n",
    "- Introduce Visual Studio Code as a code editor for Data Science\n",
    "- Demonstrate creating and modifying tables in markdown\n"
   ]
  },
  {
   "cell_type": "markdown",
   "id": "363cbc46",
   "metadata": {},
   "source": [
    "## Author\n",
    "\n",
    "Jigyanshu\n"
   ]
  },
  {
   "cell_type": "code",
   "execution_count": null,
   "id": "e61c01fe",
   "metadata": {},
   "outputs": [],
   "source": []
  }
 ],
 "metadata": {
  "kernelspec": {
   "display_name": "Python 3",
   "language": "python",
   "name": "python3"
  },
  "language_info": {
   "codemirror_mode": {
    "name": "ipython",
    "version": 3
   },
   "file_extension": ".py",
   "mimetype": "text/x-python",
   "name": "python",
   "nbconvert_exporter": "python",
   "pygments_lexer": "ipython3",
   "version": "3.8.5"
  }
 },
 "nbformat": 4,
 "nbformat_minor": 5
}
